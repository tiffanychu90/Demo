{
 "cells": [
  {
   "cell_type": "markdown",
   "metadata": {},
   "source": [
    "* [Census API Guide](https://www.census.gov/content/dam/Census/data/developers/api-user-guide/api-guide.pdf)\n",
    "* [List of variables for 2013-2017 5-year ACS](https://api.census.gov/data/2017/acs/acs5/variables.html)\n",
    "* Download table B25001 (housing units)\n",
    "* Download table B25008 for total population in occupied housing units\n",
    "* Need to install Census API key"
   ]
  },
  {
   "cell_type": "code",
   "execution_count": 1,
   "metadata": {},
   "outputs": [
    {
     "name": "stderr",
     "output_type": "stream",
     "text": [
      "── Attaching packages ─────────────────────────────────────── tidyverse 1.2.1 ──\n",
      "✔ ggplot2 3.2.0     ✔ purrr   0.3.2\n",
      "✔ tibble  2.1.3     ✔ dplyr   0.8.3\n",
      "✔ tidyr   0.8.3     ✔ stringr 1.4.0\n",
      "✔ readr   1.3.1     ✔ forcats 0.4.0\n",
      "── Conflicts ────────────────────────────────────────── tidyverse_conflicts() ──\n",
      "✖ dplyr::filter() masks stats::filter()\n",
      "✖ dplyr::lag()    masks stats::lag()\n"
     ]
    }
   ],
   "source": [
    "library(tidycensus)\n",
    "library(tidyverse)\n",
    "options(tigris_use_cache = TRUE)"
   ]
  },
  {
   "cell_type": "code",
   "execution_count": 8,
   "metadata": {},
   "outputs": [
    {
     "name": "stderr",
     "output_type": "stream",
     "text": [
      "Your original .Renviron will be backed up and stored in your R HOME directory if needed.\n",
      "Your API key has been stored in your .Renviron and can be accessed by Sys.getenv(\"CENSUS_API_KEY\"). \n",
      "To use now, restart R or run `readRenviron(\"~/.Renviron\")`\n"
     ]
    },
    {
     "data": {
      "text/html": [
       "'2dacc2d1fe8ae85c99e2f934a70576d6f731bb0f'"
      ],
      "text/latex": [
       "'2dacc2d1fe8ae85c99e2f934a70576d6f731bb0f'"
      ],
      "text/markdown": [
       "'2dacc2d1fe8ae85c99e2f934a70576d6f731bb0f'"
      ],
      "text/plain": [
       "[1] \"2dacc2d1fe8ae85c99e2f934a70576d6f731bb0f\""
      ]
     },
     "metadata": {},
     "output_type": "display_data"
    }
   ],
   "source": [
    "census_api_key('2dacc2d1fe8ae85c99e2f934a70576d6f731bb0f', install=TRUE, overwrite=TRUE)"
   ]
  },
  {
   "cell_type": "code",
   "execution_count": 9,
   "metadata": {},
   "outputs": [
    {
     "name": "stderr",
     "output_type": "stream",
     "text": [
      "Getting data from the 2013-2017 5-year ACS\n",
      "Downloading feature geometry from the Census website.  To cache shapefiles for use in future sessions, set `options(tigris_use_cache = TRUE)`.\n"
     ]
    },
    {
     "ename": "ERROR",
     "evalue": "Error: Your API call has errors.  The API message returned is error: error: unknown variable 'geographyE'.\n",
     "output_type": "error",
     "traceback": [
      "Error: Your API call has errors.  The API message returned is error: error: unknown variable 'geographyE'.\nTraceback:\n",
      "1. get_acs(geography = \"block group\", county = \"Los Angeles\", variables = vars, \n .     year = 2017, geometry = TRUE)",
      "2. suppressWarnings(load_data_acs(geography, vars, key, year, state, \n .     county, survey))",
      "3. withCallingHandlers(expr, warning = function(w) invokeRestart(\"muffleWarning\"))",
      "4. load_data_acs(geography, vars, key, year, state, county, survey)",
      "5. stop(sprintf(\"Your API call has errors.  The API message returned is %s.\", \n .     msg), call. = FALSE)"
     ]
    }
   ],
   "source": [
    "vars <- c(housing_units = \"B25001_001E\",\n",
    "    pop = \"B25008_001E\",\n",
    "    owner_pop = \"B25008_002E\",\n",
    "    renter_pop = \"geography\")\n",
    "\n",
    "df <- get_acs(geography = \"block group\", county = \"Los Angeles\", variables = vars, year = 2017, geometry = TRUE)"
   ]
  },
  {
   "cell_type": "code",
   "execution_count": null,
   "metadata": {},
   "outputs": [],
   "source": [
    "#m90 <- get_acs(geography = \"block group\", county = \"Los Angeles\", variables = \"\", year = 2017, geometry = TRUE)"
   ]
  }
 ],
 "metadata": {
  "kernelspec": {
   "display_name": "R",
   "language": "R",
   "name": "ir"
  },
  "language_info": {
   "name": ""
  }
 },
 "nbformat": 4,
 "nbformat_minor": 4
}
